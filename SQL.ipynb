{
 "cells": [
  {
   "cell_type": "markdown",
   "metadata": {},
   "source": [
    "# AIRADA TAWEEYOSSAK 6030830121 (SQL Dust&Temp)"
   ]
  },
  {
   "cell_type": "markdown",
   "metadata": {},
   "source": [
    "# IMPORT SQLITE3 "
   ]
  },
  {
   "cell_type": "code",
   "execution_count": 1,
   "metadata": {},
   "outputs": [],
   "source": [
    "import sqlite3"
   ]
  },
  {
   "cell_type": "markdown",
   "metadata": {},
   "source": [
    "# CREATE DATABASE"
   ]
  },
  {
   "cell_type": "code",
   "execution_count": 2,
   "metadata": {},
   "outputs": [
    {
     "name": "stdout",
     "output_type": "stream",
     "text": [
      "Opened database successfully\n"
     ]
    }
   ],
   "source": [
    "conn = sqlite3.connect('sql_dtj.db')\n",
    "print(\"Opened database successfully\");"
   ]
  },
  {
   "cell_type": "markdown",
   "metadata": {},
   "source": [
    "# CREATE TABLE"
   ]
  },
  {
   "cell_type": "markdown",
   "metadata": {},
   "source": [
    "- Create table sensors\n",
    "- Create table Dust and Temperature"
   ]
  },
  {
   "cell_type": "code",
   "execution_count": 3,
   "metadata": {},
   "outputs": [
    {
     "name": "stdout",
     "output_type": "stream",
     "text": [
      "Table created successfully\n"
     ]
    }
   ],
   "source": [
    "conn.execute('''\n",
    "CREATE TABLE IF NOT EXISTS Sensors (\n",
    "\tID INTEGER PRIMARY KEY NOT NULL,\n",
    "\tName CHAR(50) NOT NULL \n",
    ");''')\n",
    "\n",
    "conn.execute('''\n",
    "CREATE TABLE Dust_AND_Temp (\n",
    "\tID INTEGER NOT NULL,\n",
    "\tDate_Time CHAR(50) NOT NULL ,\n",
    "\tDust INTEGER NOT NULL ,\n",
    "\tTemp_Celcius INTEGER NOT NULL \n",
    "\t\tCONSTRAINT fk_Sensors_ID REFERENCES Sensors(ID));''')\n",
    "\n",
    "conn.commit()\n",
    "\n",
    "print(\"Table created successfully\");"
   ]
  },
  {
   "cell_type": "markdown",
   "metadata": {},
   "source": [
    "# INSERT DATA INTO TABLE"
   ]
  },
  {
   "cell_type": "markdown",
   "metadata": {},
   "source": [
    "### INSERT VALUES INTO TABLE Sensors"
   ]
  },
  {
   "cell_type": "code",
   "execution_count": 4,
   "metadata": {},
   "outputs": [],
   "source": [
    "conn.execute(\"INSERT INTO Sensors(ID,Name) VALUES(101,'Ant');\")\n",
    "conn.execute(\"INSERT INTO Sensors(ID,Name) VALUES(102,'Bird');\")\n",
    "conn.execute(\"INSERT INTO Sensors(ID,Name) VALUES(103,'Cat');\")\n",
    "conn.execute(\"INSERT INTO Sensors(ID,Name) VALUES(104,'Dog');\")\n",
    "conn.execute(\"INSERT INTO Sensors(ID,Name) VALUES(105,'Elephant');\")\n",
    "conn.commit()"
   ]
  },
  {
   "cell_type": "markdown",
   "metadata": {},
   "source": [
    "### INSERT VALUES INTO TABLE Dust&Temp"
   ]
  },
  {
   "cell_type": "markdown",
   "metadata": {},
   "source": [
    "- Insert values of Sensors 'Ant'"
   ]
  },
  {
   "cell_type": "code",
   "execution_count": 5,
   "metadata": {},
   "outputs": [],
   "source": [
    "conn.execute(\"INSERT INTO Dust_AND_Temp(ID,Date_Time,Dust,Temp_Celcius) VALUES(101,'10/09/63 08:00:00',15,35);\")\n",
    "conn.execute(\"INSERT INTO Dust_AND_Temp(ID,Date_Time,Dust,Temp_Celcius) VALUES(101,'10/09/63 09:00:00',20,35);\")\n",
    "conn.execute(\"INSERT INTO Dust_AND_Temp(ID,Date_Time,Dust,Temp_Celcius) VALUES(101,'10/09/63 10:00:00',10,39);\")\n",
    "conn.execute(\"INSERT INTO Dust_AND_Temp(ID,Date_Time,Dust,Temp_Celcius) VALUES(101,'10/09/63 11:00:00',30,37);\")\n",
    "conn.execute(\"INSERT INTO Dust_AND_Temp(ID,Date_Time,Dust,Temp_Celcius) VALUES(101,'10/09/63 12:00:00',40,36);\")\n",
    "conn.commit()"
   ]
  },
  {
   "cell_type": "markdown",
   "metadata": {},
   "source": [
    "- Insert values of Sensors 'Bird'"
   ]
  },
  {
   "cell_type": "code",
   "execution_count": 6,
   "metadata": {},
   "outputs": [],
   "source": [
    "conn.execute(\"INSERT INTO Dust_AND_Temp(ID,Date_Time,Dust,Temp_Celcius) VALUES(102,'10/09/63 08:00:00',53,35);\")\n",
    "conn.execute(\"INSERT INTO Dust_AND_Temp(ID,Date_Time,Dust,Temp_Celcius) VALUES(102,'10/09/63 09:00:00',20,36);\")\n",
    "conn.execute(\"INSERT INTO Dust_AND_Temp(ID,Date_Time,Dust,Temp_Celcius) VALUES(102,'10/09/63 10:00:00',14,34);\")\n",
    "conn.execute(\"INSERT INTO Dust_AND_Temp(ID,Date_Time,Dust,Temp_Celcius) VALUES(102,'10/09/63 11:00:00',8,36);\")\n",
    "conn.execute(\"INSERT INTO Dust_AND_Temp(ID,Date_Time,Dust,Temp_Celcius) VALUES(102,'10/09/63 12:00:00',20,41);\")\n",
    "conn.commit()"
   ]
  },
  {
   "cell_type": "markdown",
   "metadata": {},
   "source": [
    "- Insert values of Sensors 'Cat'"
   ]
  },
  {
   "cell_type": "code",
   "execution_count": 7,
   "metadata": {},
   "outputs": [],
   "source": [
    "conn.execute(\"INSERT INTO Dust_AND_Temp(ID,Date_Time,Dust,Temp_Celcius) VALUES(103,'10/09/63 08:00:00',23,35);\")\n",
    "conn.execute(\"INSERT INTO Dust_AND_Temp(ID,Date_Time,Dust,Temp_Celcius) VALUES(103,'10/09/63 09:00:00',10,36);\")\n",
    "conn.execute(\"INSERT INTO Dust_AND_Temp(ID,Date_Time,Dust,Temp_Celcius) VALUES(103,'10/09/63 10:00:00',40,41);\")\n",
    "conn.execute(\"INSERT INTO Dust_AND_Temp(ID,Date_Time,Dust,Temp_Celcius) VALUES(103,'10/09/63 11:00:00',21,36);\")\n",
    "conn.execute(\"INSERT INTO Dust_AND_Temp(ID,Date_Time,Dust,Temp_Celcius) VALUES(103,'10/09/63 12:00:00',24,41);\")\n",
    "conn.commit()"
   ]
  },
  {
   "cell_type": "markdown",
   "metadata": {},
   "source": [
    "- Insert values of Sensors 'Dog'"
   ]
  },
  {
   "cell_type": "code",
   "execution_count": 8,
   "metadata": {},
   "outputs": [],
   "source": [
    "conn.execute(\"INSERT INTO Dust_AND_Temp(ID,Date_Time,Dust,Temp_Celcius) VALUES(104,'10/09/63 08:00:00',10,35);\")\n",
    "conn.execute(\"INSERT INTO Dust_AND_Temp(ID,Date_Time,Dust,Temp_Celcius) VALUES(104,'10/09/63 09:00:00',12,38);\")\n",
    "conn.execute(\"INSERT INTO Dust_AND_Temp(ID,Date_Time,Dust,Temp_Celcius) VALUES(104,'10/09/63 10:00:00',15,34);\")\n",
    "conn.execute(\"INSERT INTO Dust_AND_Temp(ID,Date_Time,Dust,Temp_Celcius) VALUES(104,'10/09/63 11:00:00',36,32);\")\n",
    "conn.execute(\"INSERT INTO Dust_AND_Temp(ID,Date_Time,Dust,Temp_Celcius) VALUES(104,'10/09/63 12:00:00',24,40);\")\n",
    "conn.commit()"
   ]
  },
  {
   "cell_type": "markdown",
   "metadata": {},
   "source": [
    "- Insert values of Sensors 'Elephant'"
   ]
  },
  {
   "cell_type": "code",
   "execution_count": 9,
   "metadata": {},
   "outputs": [],
   "source": [
    "conn.execute(\"INSERT INTO Dust_AND_Temp(ID,Date_Time,Dust,Temp_Celcius) VALUES(105,'10/09/63 08:00:00',20,34);\")\n",
    "conn.execute(\"INSERT INTO Dust_AND_Temp(ID,Date_Time,Dust,Temp_Celcius) VALUES(105,'10/09/63 09:00:00',14,33);\")\n",
    "conn.execute(\"INSERT INTO Dust_AND_Temp(ID,Date_Time,Dust,Temp_Celcius) VALUES(105,'10/09/63 10:00:00',10,38);\")\n",
    "conn.execute(\"INSERT INTO Dust_AND_Temp(ID,Date_Time,Dust,Temp_Celcius) VALUES(105,'10/09/63 11:00:00',29,36);\")\n",
    "conn.execute(\"INSERT INTO Dust_AND_Temp(ID,Date_Time,Dust,Temp_Celcius) VALUES(105,'10/09/63 12:00:00',24,37);\")\n",
    "conn.commit()"
   ]
  },
  {
   "cell_type": "markdown",
   "metadata": {},
   "source": [
    "# IMPORT PANDAS"
   ]
  },
  {
   "cell_type": "code",
   "execution_count": 10,
   "metadata": {},
   "outputs": [],
   "source": [
    "import pandas as pd"
   ]
  },
  {
   "cell_type": "markdown",
   "metadata": {},
   "source": [
    "# SELECT DATA AND JOIN THEM"
   ]
  },
  {
   "cell_type": "code",
   "execution_count": 11,
   "metadata": {},
   "outputs": [],
   "source": [
    "df = pd.read_sql_query(\"select s.ID,s.name,DT.Date_Time,DT.Dust,DT.Temp_Celcius from Sensors s, Dust_AND_Temp DT where s.ID=DT.ID ;\",conn)"
   ]
  },
  {
   "cell_type": "markdown",
   "metadata": {},
   "source": [
    "# SHOW DATA"
   ]
  },
  {
   "cell_type": "code",
   "execution_count": 12,
   "metadata": {},
   "outputs": [
    {
     "data": {
      "text/html": [
       "<div>\n",
       "<style scoped>\n",
       "    .dataframe tbody tr th:only-of-type {\n",
       "        vertical-align: middle;\n",
       "    }\n",
       "\n",
       "    .dataframe tbody tr th {\n",
       "        vertical-align: top;\n",
       "    }\n",
       "\n",
       "    .dataframe thead th {\n",
       "        text-align: right;\n",
       "    }\n",
       "</style>\n",
       "<table border=\"1\" class=\"dataframe\">\n",
       "  <thead>\n",
       "    <tr style=\"text-align: right;\">\n",
       "      <th></th>\n",
       "      <th>ID</th>\n",
       "      <th>Name</th>\n",
       "      <th>Date_Time</th>\n",
       "      <th>Dust</th>\n",
       "      <th>Temp_Celcius</th>\n",
       "    </tr>\n",
       "  </thead>\n",
       "  <tbody>\n",
       "    <tr>\n",
       "      <th>0</th>\n",
       "      <td>101</td>\n",
       "      <td>Ant</td>\n",
       "      <td>10/09/63 08:00:00</td>\n",
       "      <td>15</td>\n",
       "      <td>35</td>\n",
       "    </tr>\n",
       "    <tr>\n",
       "      <th>1</th>\n",
       "      <td>101</td>\n",
       "      <td>Ant</td>\n",
       "      <td>10/09/63 09:00:00</td>\n",
       "      <td>20</td>\n",
       "      <td>35</td>\n",
       "    </tr>\n",
       "    <tr>\n",
       "      <th>2</th>\n",
       "      <td>101</td>\n",
       "      <td>Ant</td>\n",
       "      <td>10/09/63 10:00:00</td>\n",
       "      <td>10</td>\n",
       "      <td>39</td>\n",
       "    </tr>\n",
       "    <tr>\n",
       "      <th>3</th>\n",
       "      <td>101</td>\n",
       "      <td>Ant</td>\n",
       "      <td>10/09/63 11:00:00</td>\n",
       "      <td>30</td>\n",
       "      <td>37</td>\n",
       "    </tr>\n",
       "    <tr>\n",
       "      <th>4</th>\n",
       "      <td>101</td>\n",
       "      <td>Ant</td>\n",
       "      <td>10/09/63 12:00:00</td>\n",
       "      <td>40</td>\n",
       "      <td>36</td>\n",
       "    </tr>\n",
       "    <tr>\n",
       "      <th>5</th>\n",
       "      <td>102</td>\n",
       "      <td>Bird</td>\n",
       "      <td>10/09/63 08:00:00</td>\n",
       "      <td>53</td>\n",
       "      <td>35</td>\n",
       "    </tr>\n",
       "    <tr>\n",
       "      <th>6</th>\n",
       "      <td>102</td>\n",
       "      <td>Bird</td>\n",
       "      <td>10/09/63 09:00:00</td>\n",
       "      <td>20</td>\n",
       "      <td>36</td>\n",
       "    </tr>\n",
       "    <tr>\n",
       "      <th>7</th>\n",
       "      <td>102</td>\n",
       "      <td>Bird</td>\n",
       "      <td>10/09/63 10:00:00</td>\n",
       "      <td>14</td>\n",
       "      <td>34</td>\n",
       "    </tr>\n",
       "    <tr>\n",
       "      <th>8</th>\n",
       "      <td>102</td>\n",
       "      <td>Bird</td>\n",
       "      <td>10/09/63 11:00:00</td>\n",
       "      <td>8</td>\n",
       "      <td>36</td>\n",
       "    </tr>\n",
       "    <tr>\n",
       "      <th>9</th>\n",
       "      <td>102</td>\n",
       "      <td>Bird</td>\n",
       "      <td>10/09/63 12:00:00</td>\n",
       "      <td>20</td>\n",
       "      <td>41</td>\n",
       "    </tr>\n",
       "    <tr>\n",
       "      <th>10</th>\n",
       "      <td>103</td>\n",
       "      <td>Cat</td>\n",
       "      <td>10/09/63 08:00:00</td>\n",
       "      <td>23</td>\n",
       "      <td>35</td>\n",
       "    </tr>\n",
       "    <tr>\n",
       "      <th>11</th>\n",
       "      <td>103</td>\n",
       "      <td>Cat</td>\n",
       "      <td>10/09/63 09:00:00</td>\n",
       "      <td>10</td>\n",
       "      <td>36</td>\n",
       "    </tr>\n",
       "    <tr>\n",
       "      <th>12</th>\n",
       "      <td>103</td>\n",
       "      <td>Cat</td>\n",
       "      <td>10/09/63 10:00:00</td>\n",
       "      <td>40</td>\n",
       "      <td>41</td>\n",
       "    </tr>\n",
       "    <tr>\n",
       "      <th>13</th>\n",
       "      <td>103</td>\n",
       "      <td>Cat</td>\n",
       "      <td>10/09/63 11:00:00</td>\n",
       "      <td>21</td>\n",
       "      <td>36</td>\n",
       "    </tr>\n",
       "    <tr>\n",
       "      <th>14</th>\n",
       "      <td>103</td>\n",
       "      <td>Cat</td>\n",
       "      <td>10/09/63 12:00:00</td>\n",
       "      <td>24</td>\n",
       "      <td>41</td>\n",
       "    </tr>\n",
       "    <tr>\n",
       "      <th>15</th>\n",
       "      <td>104</td>\n",
       "      <td>Dog</td>\n",
       "      <td>10/09/63 08:00:00</td>\n",
       "      <td>10</td>\n",
       "      <td>35</td>\n",
       "    </tr>\n",
       "    <tr>\n",
       "      <th>16</th>\n",
       "      <td>104</td>\n",
       "      <td>Dog</td>\n",
       "      <td>10/09/63 09:00:00</td>\n",
       "      <td>12</td>\n",
       "      <td>38</td>\n",
       "    </tr>\n",
       "    <tr>\n",
       "      <th>17</th>\n",
       "      <td>104</td>\n",
       "      <td>Dog</td>\n",
       "      <td>10/09/63 10:00:00</td>\n",
       "      <td>15</td>\n",
       "      <td>34</td>\n",
       "    </tr>\n",
       "    <tr>\n",
       "      <th>18</th>\n",
       "      <td>104</td>\n",
       "      <td>Dog</td>\n",
       "      <td>10/09/63 11:00:00</td>\n",
       "      <td>36</td>\n",
       "      <td>32</td>\n",
       "    </tr>\n",
       "    <tr>\n",
       "      <th>19</th>\n",
       "      <td>104</td>\n",
       "      <td>Dog</td>\n",
       "      <td>10/09/63 12:00:00</td>\n",
       "      <td>24</td>\n",
       "      <td>40</td>\n",
       "    </tr>\n",
       "    <tr>\n",
       "      <th>20</th>\n",
       "      <td>105</td>\n",
       "      <td>Elephant</td>\n",
       "      <td>10/09/63 08:00:00</td>\n",
       "      <td>20</td>\n",
       "      <td>34</td>\n",
       "    </tr>\n",
       "    <tr>\n",
       "      <th>21</th>\n",
       "      <td>105</td>\n",
       "      <td>Elephant</td>\n",
       "      <td>10/09/63 09:00:00</td>\n",
       "      <td>14</td>\n",
       "      <td>33</td>\n",
       "    </tr>\n",
       "    <tr>\n",
       "      <th>22</th>\n",
       "      <td>105</td>\n",
       "      <td>Elephant</td>\n",
       "      <td>10/09/63 10:00:00</td>\n",
       "      <td>10</td>\n",
       "      <td>38</td>\n",
       "    </tr>\n",
       "    <tr>\n",
       "      <th>23</th>\n",
       "      <td>105</td>\n",
       "      <td>Elephant</td>\n",
       "      <td>10/09/63 11:00:00</td>\n",
       "      <td>29</td>\n",
       "      <td>36</td>\n",
       "    </tr>\n",
       "    <tr>\n",
       "      <th>24</th>\n",
       "      <td>105</td>\n",
       "      <td>Elephant</td>\n",
       "      <td>10/09/63 12:00:00</td>\n",
       "      <td>24</td>\n",
       "      <td>37</td>\n",
       "    </tr>\n",
       "  </tbody>\n",
       "</table>\n",
       "</div>"
      ],
      "text/plain": [
       "     ID      Name          Date_Time  Dust  Temp_Celcius\n",
       "0   101       Ant  10/09/63 08:00:00    15            35\n",
       "1   101       Ant  10/09/63 09:00:00    20            35\n",
       "2   101       Ant  10/09/63 10:00:00    10            39\n",
       "3   101       Ant  10/09/63 11:00:00    30            37\n",
       "4   101       Ant  10/09/63 12:00:00    40            36\n",
       "5   102      Bird  10/09/63 08:00:00    53            35\n",
       "6   102      Bird  10/09/63 09:00:00    20            36\n",
       "7   102      Bird  10/09/63 10:00:00    14            34\n",
       "8   102      Bird  10/09/63 11:00:00     8            36\n",
       "9   102      Bird  10/09/63 12:00:00    20            41\n",
       "10  103       Cat  10/09/63 08:00:00    23            35\n",
       "11  103       Cat  10/09/63 09:00:00    10            36\n",
       "12  103       Cat  10/09/63 10:00:00    40            41\n",
       "13  103       Cat  10/09/63 11:00:00    21            36\n",
       "14  103       Cat  10/09/63 12:00:00    24            41\n",
       "15  104       Dog  10/09/63 08:00:00    10            35\n",
       "16  104       Dog  10/09/63 09:00:00    12            38\n",
       "17  104       Dog  10/09/63 10:00:00    15            34\n",
       "18  104       Dog  10/09/63 11:00:00    36            32\n",
       "19  104       Dog  10/09/63 12:00:00    24            40\n",
       "20  105  Elephant  10/09/63 08:00:00    20            34\n",
       "21  105  Elephant  10/09/63 09:00:00    14            33\n",
       "22  105  Elephant  10/09/63 10:00:00    10            38\n",
       "23  105  Elephant  10/09/63 11:00:00    29            36\n",
       "24  105  Elephant  10/09/63 12:00:00    24            37"
      ]
     },
     "execution_count": 12,
     "metadata": {},
     "output_type": "execute_result"
    }
   ],
   "source": [
    "df"
   ]
  }
 ],
 "metadata": {
  "kernelspec": {
   "display_name": "Python 3",
   "language": "python",
   "name": "python3"
  },
  "language_info": {
   "codemirror_mode": {
    "name": "ipython",
    "version": 3
   },
   "file_extension": ".py",
   "mimetype": "text/x-python",
   "name": "python",
   "nbconvert_exporter": "python",
   "pygments_lexer": "ipython3",
   "version": "3.8.5"
  }
 },
 "nbformat": 4,
 "nbformat_minor": 4
}
